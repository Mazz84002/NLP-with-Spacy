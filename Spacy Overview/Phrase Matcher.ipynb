{
 "cells": [
  {
   "cell_type": "markdown",
   "metadata": {},
   "source": [
    "## Phrase Matcher"
   ]
  },
  {
   "cell_type": "code",
   "execution_count": 74,
   "metadata": {},
   "outputs": [],
   "source": [
    "import spacy"
   ]
  },
  {
   "cell_type": "code",
   "execution_count": 75,
   "metadata": {},
   "outputs": [],
   "source": [
    "from spacy.matcher import Matcher"
   ]
  },
  {
   "cell_type": "code",
   "execution_count": 76,
   "metadata": {},
   "outputs": [],
   "source": [
    "nlp = spacy.load('en_core_web_sm')"
   ]
  },
  {
   "cell_type": "markdown",
   "metadata": {},
   "source": [
    "- stored in `nlp.vocab`, not in `doc.ents`\n",
    "- not looking for entuty in text, but a structure within the text\n",
    "- note that all the matches are token-wise\n",
    "  eg: `FS440` is not `IS_DIGIT`, since it is one token and is not just digits, but in `FS 440`, 440 is `IS_DIGIT`\n",
    "\n",
    "### When to use over RegEx?\n",
    "\n",
    "when linguistic components are to be found, and use RegEx when you want to extract a complex pattern, that is not dependent on parts-of-speech"
   ]
  },
  {
   "cell_type": "code",
   "execution_count": 77,
   "metadata": {},
   "outputs": [],
   "source": [
    "matcher = Matcher(nlp.vocab)\n",
    "pattern = [{\"LIKE_EMAIL\": True}]\n",
    "matcher.add(\"EMAIL_ADDRESS\", [pattern])\n",
    "doc = nlp(\"My email address is mazz84002@gmail.com\")\n",
    "matches = matcher(doc) # matches is a list of tuples"
   ]
  },
  {
   "cell_type": "code",
   "execution_count": 78,
   "metadata": {},
   "outputs": [
    {
     "name": "stdout",
     "output_type": "stream",
     "text": [
      "[(16571425990740197027, 4, 5)]\n"
     ]
    }
   ],
   "source": [
    "print(matches)"
   ]
  },
  {
   "cell_type": "markdown",
   "metadata": {},
   "source": [
    "This was added to `nlp.vocab` as a unique lexemme, as shown `16571425990740197027`"
   ]
  },
  {
   "cell_type": "code",
   "execution_count": 79,
   "metadata": {},
   "outputs": [
    {
     "name": "stdout",
     "output_type": "stream",
     "text": [
      "<spacy.lexeme.Lexeme object at 0x7f89c2cd7980>\n",
      "EMAIL_ADDRESS\n"
     ]
    }
   ],
   "source": [
    "print(nlp.vocab[matches[0][0]])\n",
    "print(nlp.vocab[matches[0][0]].text)"
   ]
  },
  {
   "cell_type": "markdown",
   "metadata": {},
   "source": [
    "## Extraction Examples"
   ]
  },
  {
   "cell_type": "code",
   "execution_count": 80,
   "metadata": {},
   "outputs": [],
   "source": [
    "with open('data/wiki_mlk.txt', 'r') as f:\n",
    "    text = f.read()"
   ]
  },
  {
   "cell_type": "code",
   "execution_count": 81,
   "metadata": {},
   "outputs": [
    {
     "name": "stdout",
     "output_type": "stream",
     "text": [
      "Martin Luther King Jr. (born Michael King Jr.; January 15, 1929 – April 4, 1968) was an American Baptist minister and activist who became the most visible spokesman and leader in the American civil rights movement from 1955 until his assassination in 1968. King advanced civil rights through nonviolence and civil disobedience, inspired by his Christian beliefs and the nonviolent activism of Mahatma Gandhi. He was the son of early civil rights activist and minister Martin Luther King Sr.\n",
      "\n",
      "King participated in and led marches for blacks' right to vote, desegregation, labor rights, and other basic civil rights.[1] King led the 1955 Montgomery bus boycott and later became the first president of the Southern Christian Leadership Conference (SCLC). As president of the SCLC, he led the unsuccessful Albany Movement in Albany, Georgia, and helped organize some of the nonviolent 1963 protests in Birmingham, Alabama. King helped organize the 1963 March on Washington, where he delivered his famous \"I Have a Dream\" speech on the steps of the Lincoln Memorial.\n",
      "\n",
      "The SCLC put into practice the tactics of nonviolent protest with some success by strategically choosing the methods and places in which protests were carried out. There were several dramatic stand-offs with segregationist authorities, who sometimes turned violent.[2] Federal Bureau of Investigation (FBI) Director J. Edgar Hoover considered King a radical and made him an object of the FBI's COINTELPRO from 1963, forward. FBI agents investigated him for possible communist ties, recorded his extramarital affairs and reported on them to government officials, and, in 1964, mailed King a threatening anonymous letter, which he interpreted as an attempt to make him commit suicide.[3]\n",
      "\n",
      "On October 14, 1964, King won the Nobel Peace Prize for combating racial inequality through nonviolent resistance. In 1965, he helped organize two of the three Selma to Montgomery marches. In his final years, he expanded his focus to include opposition towards poverty, capitalism, and the Vietnam War.\n",
      "\n",
      "In 1968, King was planning a national occupation of Washington, D.C., to be called the Poor People's Campaign, when he was assassinated on April 4 in Memphis, Tennessee. His death was followed by riots in many U.S. cities. Allegations that James Earl Ray, the man convicted of killing King, had been framed or acted in concert with government agents persisted for decades after the shooting. King was posthumously awarded the Presidential Medal of Freedom in 1977 and the Congressional Gold Medal in 2003. Martin Luther King Jr. Day was established as a holiday in cities and states throughout the United States beginning in 1971; the holiday was enacted at the federal level by legislation signed by President Ronald Reagan in 1986. Hundreds of streets in the U.S. have been renamed in his honor, and the most populous county in Washington State was rededicated for him. The Martin Luther King Jr. Memorial on the National Mall in Washington, D.C., was dedicated in 2011.\n"
     ]
    }
   ],
   "source": [
    "print(text)"
   ]
  },
  {
   "cell_type": "markdown",
   "metadata": {},
   "source": [
    "### Extracting Proper Nouns"
   ]
  },
  {
   "cell_type": "code",
   "execution_count": 82,
   "metadata": {},
   "outputs": [],
   "source": [
    "nlp = spacy.load('en_core_web_md')"
   ]
  },
  {
   "cell_type": "code",
   "execution_count": 83,
   "metadata": {},
   "outputs": [
    {
     "name": "stdout",
     "output_type": "stream",
     "text": [
      "103\n",
      "(451313080118390996, 0, 1) Martin\n",
      "(451313080118390996, 1, 2) Luther\n",
      "(451313080118390996, 2, 3) King\n",
      "(451313080118390996, 3, 4) Jr.\n",
      "(451313080118390996, 6, 7) Michael\n",
      "(451313080118390996, 7, 8) King\n",
      "(451313080118390996, 8, 9) Jr.\n",
      "(451313080118390996, 10, 11) January\n",
      "(451313080118390996, 15, 16) April\n",
      "(451313080118390996, 23, 24) Baptist\n",
      "(451313080118390996, 49, 50) King\n",
      "(451313080118390996, 69, 70) Mahatma\n",
      "(451313080118390996, 70, 71) Gandhi\n",
      "(451313080118390996, 83, 84) Martin\n",
      "(451313080118390996, 84, 85) Luther\n",
      "(451313080118390996, 85, 86) King\n",
      "(451313080118390996, 86, 87) Sr\n",
      "(451313080118390996, 89, 90) King\n",
      "(451313080118390996, 113, 114) King\n",
      "(451313080118390996, 117, 118) Montgomery\n"
     ]
    }
   ],
   "source": [
    "matcher = Matcher(nlp.vocab)\n",
    "pattern = [{\"POS\": \"PROPN\"}]\n",
    "matcher.add(\"PROPER_NOUN\", [pattern])\n",
    "doc = nlp(text)\n",
    "matches = matcher(doc)\n",
    "print(len(matches))\n",
    "for match in matches[:20]:\n",
    "    print(match, doc[match[1]:match[2]])"
   ]
  },
  {
   "cell_type": "markdown",
   "metadata": {},
   "source": [
    "Solving the problem of seperated tokens (grabbing multi word tokens)"
   ]
  },
  {
   "cell_type": "code",
   "execution_count": 84,
   "metadata": {},
   "outputs": [
    {
     "name": "stdout",
     "output_type": "stream",
     "text": [
      "172\n",
      "(451313080118390996, 0, 1) Martin\n",
      "(451313080118390996, 0, 2) Martin Luther\n",
      "(451313080118390996, 1, 2) Luther\n",
      "(451313080118390996, 0, 3) Martin Luther King\n",
      "(451313080118390996, 1, 3) Luther King\n",
      "(451313080118390996, 2, 3) King\n",
      "(451313080118390996, 0, 4) Martin Luther King Jr.\n",
      "(451313080118390996, 1, 4) Luther King Jr.\n",
      "(451313080118390996, 2, 4) King Jr.\n",
      "(451313080118390996, 3, 4) Jr.\n",
      "(451313080118390996, 6, 7) Michael\n",
      "(451313080118390996, 6, 8) Michael King\n",
      "(451313080118390996, 7, 8) King\n",
      "(451313080118390996, 6, 9) Michael King Jr.\n",
      "(451313080118390996, 7, 9) King Jr.\n",
      "(451313080118390996, 8, 9) Jr.\n",
      "(451313080118390996, 10, 11) January\n",
      "(451313080118390996, 15, 16) April\n",
      "(451313080118390996, 23, 24) Baptist\n",
      "(451313080118390996, 49, 50) King\n"
     ]
    }
   ],
   "source": [
    "matcher = Matcher(nlp.vocab)\n",
    "pattern = [{\"POS\": \"PROPN\", \"OP\": \"+\"}] # OP: + means looking for PROPN occuring 1 or more times\n",
    "matcher.add(\"PROPER_NOUN\", [pattern])\n",
    "doc = nlp(text)\n",
    "matches = matcher(doc)\n",
    "print(len(matches))\n",
    "for match in matches[:20]:\n",
    "    print(match, doc[match[1]:match[2]])"
   ]
  },
  {
   "cell_type": "markdown",
   "metadata": {},
   "source": [
    "Problem - Overlapping tokens"
   ]
  },
  {
   "cell_type": "code",
   "execution_count": 85,
   "metadata": {},
   "outputs": [
    {
     "name": "stdout",
     "output_type": "stream",
     "text": [
      "63\n",
      "(451313080118390996, 469, 474) Martin Luther King Jr. Day\n",
      "(451313080118390996, 536, 541) Martin Luther King Jr. Memorial\n",
      "(451313080118390996, 0, 4) Martin Luther King Jr.\n",
      "(451313080118390996, 83, 87) Martin Luther King Sr\n",
      "(451313080118390996, 128, 132) Southern Christian Leadership Conference\n",
      "(451313080118390996, 247, 251) Director J. Edgar Hoover\n",
      "(451313080118390996, 6, 9) Michael King Jr.\n",
      "(451313080118390996, 325, 328) Nobel Peace Prize\n",
      "(451313080118390996, 422, 425) James Earl Ray\n",
      "(451313080118390996, 463, 466) Congressional Gold Medal\n",
      "(451313080118390996, 503, 506) President Ronald Reagan\n",
      "(451313080118390996, 69, 71) Mahatma Gandhi\n",
      "(451313080118390996, 146, 148) Albany Movement\n",
      "(451313080118390996, 193, 195) Lincoln Memorial\n",
      "(451313080118390996, 240, 242) Federal Bureau\n",
      "(451313080118390996, 370, 372) Vietnam War\n",
      "(451313080118390996, 392, 394) Poor People\n",
      "(451313080118390996, 455, 457) Presidential Medal\n",
      "(451313080118390996, 485, 487) United States\n",
      "(451313080118390996, 528, 530) Washington State\n"
     ]
    }
   ],
   "source": [
    "matcher = Matcher(nlp.vocab)\n",
    "pattern = [{\"POS\": \"PROPN\", \"OP\": \"+\"}]\n",
    "matcher.add(\"PROPER_NOUN\", [pattern], greedy=\"LONGEST\") # greedy=LONGETS looks for the longest token\n",
    "doc = nlp(text)\n",
    "matches = matcher(doc)\n",
    "print(len(matches))\n",
    "for match in matches[:20]:\n",
    "    print(match, doc[match[1]:match[2]])"
   ]
  },
  {
   "cell_type": "markdown",
   "metadata": {},
   "source": [
    "Problem - the matches are sorted longest to shortest, not in order of text"
   ]
  },
  {
   "cell_type": "code",
   "execution_count": 86,
   "metadata": {},
   "outputs": [
    {
     "name": "stdout",
     "output_type": "stream",
     "text": [
      "63\n",
      "(451313080118390996, 0, 4) Martin Luther King Jr.\n",
      "(451313080118390996, 6, 9) Michael King Jr.\n",
      "(451313080118390996, 10, 11) January\n",
      "(451313080118390996, 15, 16) April\n",
      "(451313080118390996, 23, 24) Baptist\n",
      "(451313080118390996, 49, 50) King\n",
      "(451313080118390996, 69, 71) Mahatma Gandhi\n",
      "(451313080118390996, 83, 87) Martin Luther King Sr\n",
      "(451313080118390996, 89, 90) King\n",
      "(451313080118390996, 113, 114) King\n",
      "(451313080118390996, 117, 118) Montgomery\n",
      "(451313080118390996, 128, 132) Southern Christian Leadership Conference\n",
      "(451313080118390996, 133, 134) SCLC\n",
      "(451313080118390996, 140, 141) SCLC\n",
      "(451313080118390996, 146, 148) Albany Movement\n",
      "(451313080118390996, 149, 150) Albany\n",
      "(451313080118390996, 151, 152) Georgia\n",
      "(451313080118390996, 163, 164) Birmingham\n",
      "(451313080118390996, 165, 166) Alabama\n",
      "(451313080118390996, 167, 168) King\n"
     ]
    }
   ],
   "source": [
    "matcher = Matcher(nlp.vocab)\n",
    "pattern = [{\"POS\": \"PROPN\", \"OP\": \"+\"}]\n",
    "matcher.add(\"PROPER_NOUN\", [pattern], greedy=\"LONGEST\")\n",
    "doc = nlp(text)\n",
    "matches = matcher(doc)\n",
    "matches.sort(key= lambda x: x[1]) # sorting by the start token in the tuples list\n",
    "print(len(matches))\n",
    "for match in matches[:20]:\n",
    "    print(match, doc[match[1]:match[2]])"
   ]
  },
  {
   "cell_type": "markdown",
   "metadata": {},
   "source": [
    "### Extracting Proper Nouns followed by Verbs"
   ]
  },
  {
   "cell_type": "code",
   "execution_count": 87,
   "metadata": {},
   "outputs": [
    {
     "name": "stdout",
     "output_type": "stream",
     "text": [
      "7\n",
      "(451313080118390996, 49, 51) King advanced\n",
      "(451313080118390996, 89, 91) King participated\n",
      "(451313080118390996, 113, 115) King led\n",
      "(451313080118390996, 198, 200) SCLC put\n",
      "(451313080118390996, 247, 252) Director J. Edgar Hoover considered\n",
      "(451313080118390996, 322, 324) King won\n",
      "(451313080118390996, 485, 488) United States beginning\n"
     ]
    }
   ],
   "source": [
    "matcher = Matcher(nlp.vocab)\n",
    "pattern = [{\"POS\": \"PROPN\", \"OP\": \"+\"}, {\"POS\": \"VERB\"}]\n",
    "matcher.add(\"PROPER_NOUN\", [pattern], greedy=\"LONGEST\")\n",
    "doc = nlp(text)\n",
    "matches = matcher(doc)\n",
    "matches.sort(key= lambda x: x[1]) # sorting by the start toiken in the tuples list\n",
    "print(len(matches))\n",
    "for match in matches[:20]:\n",
    "    print(match, doc[match[1]:match[2]])"
   ]
  },
  {
   "cell_type": "code",
   "execution_count": 88,
   "metadata": {},
   "outputs": [
    {
     "name": "stdout",
     "output_type": "stream",
     "text": [
      "51\n",
      "(451313080118390996, 5, 6) born\n",
      "(451313080118390996, 28, 29) became\n",
      "(451313080118390996, 50, 51) advanced\n",
      "(451313080118390996, 59, 60) inspired\n",
      "(451313080118390996, 90, 91) participated\n",
      "(451313080118390996, 93, 94) led\n",
      "(451313080118390996, 100, 101) vote\n",
      "(451313080118390996, 114, 115) led\n",
      "(451313080118390996, 122, 123) became\n",
      "(451313080118390996, 143, 144) led\n",
      "(451313080118390996, 155, 156) organize\n",
      "(451313080118390996, 169, 170) organize\n",
      "(451313080118390996, 178, 179) delivered\n",
      "(451313080118390996, 183, 184) Have\n",
      "(451313080118390996, 199, 200) put\n",
      "(451313080118390996, 212, 213) choosing\n",
      "(451313080118390996, 221, 222) carried\n",
      "(451313080118390996, 225, 226) were\n",
      "(451313080118390996, 237, 238) turned\n",
      "(451313080118390996, 251, 252) considered\n"
     ]
    }
   ],
   "source": [
    "matcher = Matcher(nlp.vocab)\n",
    "pattern = [{\"POS\": \"VERB\", \"OP\": \"+\"}]\n",
    "matcher.add(\"PROPER_NOUN\", [pattern], greedy=\"LONGEST\")\n",
    "doc = nlp(text)\n",
    "matches = matcher(doc)\n",
    "matches.sort(key= lambda x: x[1]) # sorting by the start toiken in the tuples list\n",
    "print(len(matches))\n",
    "for match in matches[:20]:\n",
    "    print(match, doc[match[1]:match[2]])"
   ]
  },
  {
   "cell_type": "code",
   "execution_count": 89,
   "metadata": {},
   "outputs": [
    {
     "name": "stdout",
     "output_type": "stream",
     "text": [
      "18\n",
      "(451313080118390996, 0, 1) Martin\n",
      "(451313080118390996, 49, 50) King\n",
      "(451313080118390996, 72, 73) He\n",
      "(451313080118390996, 88, 89) \n",
      "\n",
      "\n",
      "(451313080118390996, 136, 137) As\n",
      "(451313080118390996, 167, 168) King\n",
      "(451313080118390996, 196, 197) \n",
      "\n",
      "\n",
      "(451313080118390996, 224, 225) There\n",
      "(451313080118390996, 270, 271) FBI\n",
      "(451313080118390996, 336, 337) In\n",
      "(451313080118390996, 351, 352) In\n",
      "(451313080118390996, 373, 374) \n",
      "\n",
      "\n",
      "(451313080118390996, 409, 410) His\n",
      "(451313080118390996, 420, 421) Allegations\n",
      "(451313080118390996, 450, 451) King\n",
      "(451313080118390996, 469, 470) Martin\n",
      "(451313080118390996, 509, 510) Hundreds\n",
      "(451313080118390996, 535, 536) The\n"
     ]
    }
   ],
   "source": [
    "matcher = Matcher(nlp.vocab)\n",
    "pattern = [{\"IS_SENT_START\": True}]\n",
    "matcher.add(\"PROPER_NOUN\", [pattern], greedy=\"LONGEST\")\n",
    "doc = nlp(text)\n",
    "matches = matcher(doc)\n",
    "matches.sort(key= lambda x: x[1]) # sorting by the start toiken in the tuples list\n",
    "print(len(matches))\n",
    "for match in matches[:20]:\n",
    "    print(match, doc[match[1]:match[2]])"
   ]
  },
  {
   "cell_type": "code",
   "execution_count": 97,
   "metadata": {},
   "outputs": [
    {
     "name": "stdout",
     "output_type": "stream",
     "text": [
      "0\n"
     ]
    }
   ],
   "source": [
    "matcher = Matcher(nlp.vocab)\n",
    "pattern = [{\"IS_UPPER\": True}]\n",
    "matcher.add(\"PROPER_NOUN\", [pattern], greedy=\"LONGEST\")\n",
    "doc = nlp(text)\n",
    "matches = matcher(doc)\n",
    "matches.sort(key= lambda x: x[1]) # sorting by the start toiken in the tuples list\n",
    "print(len(matches))\n",
    "for match in matches[:20]:\n",
    "    print(match, doc[match[1]:match[2]])"
   ]
  },
  {
   "cell_type": "code",
   "execution_count": 98,
   "metadata": {},
   "outputs": [
    {
     "name": "stdout",
     "output_type": "stream",
     "text": [
      "55\n",
      "(451313080118390996, 1, 2) was\n",
      "(451313080118390996, 2, 3) beginning\n",
      "(451313080118390996, 3, 4) to\n",
      "(451313080118390996, 4, 5) get\n",
      "(451313080118390996, 5, 6) very\n",
      "(451313080118390996, 6, 7) tired\n",
      "(451313080118390996, 7, 8) of\n",
      "(451313080118390996, 8, 9) sitting\n",
      "(451313080118390996, 9, 10) by\n",
      "(451313080118390996, 10, 11) her\n",
      "(451313080118390996, 11, 12) sister\n",
      "(451313080118390996, 12, 13) on\n",
      "(451313080118390996, 13, 14) the\n",
      "(451313080118390996, 14, 15) bank\n",
      "(451313080118390996, 16, 17) and\n",
      "(451313080118390996, 17, 18) of\n",
      "(451313080118390996, 18, 19) having\n",
      "(451313080118390996, 19, 20) nothing\n",
      "(451313080118390996, 20, 21) to\n",
      "(451313080118390996, 21, 22) do\n"
     ]
    }
   ],
   "source": [
    "matcher = Matcher(nlp.vocab)\n",
    "pattern = [{\"IS_LOWER\": True}]\n",
    "matcher.add(\"PROPER_NOUN\", [pattern], greedy=\"LONGEST\")\n",
    "doc = nlp(text)\n",
    "matches = matcher(doc)\n",
    "matches.sort(key= lambda x: x[1]) # sorting by the start toiken in the tuples list\n",
    "print(len(matches))\n",
    "for match in matches[:20]:\n",
    "    print(match, doc[match[1]:match[2]])"
   ]
  },
  {
   "cell_type": "code",
   "execution_count": 99,
   "metadata": {},
   "outputs": [
    {
     "name": "stdout",
     "output_type": "stream",
     "text": [
      "0\n"
     ]
    }
   ],
   "source": [
    "matcher = Matcher(nlp.vocab)\n",
    "pattern = [{\"IS_SPACE\": True}]\n",
    "matcher.add(\"PROPER_NOUN\", [pattern], greedy=\"LONGEST\")\n",
    "doc = nlp(text)\n",
    "matches = matcher(doc)\n",
    "matches.sort(key= lambda x: x[1]) # sorting by the start toiken in the tuples list\n",
    "print(len(matches))\n",
    "for match in matches[:20]:\n",
    "    print(match, doc[match[1]:match[2]])"
   ]
  },
  {
   "cell_type": "code",
   "execution_count": 90,
   "metadata": {},
   "outputs": [],
   "source": [
    "import json\n",
    "with open('data/alice.json', 'r') as f:\n",
    "    data = json.load(f)"
   ]
  },
  {
   "cell_type": "code",
   "execution_count": 91,
   "metadata": {},
   "outputs": [
    {
     "name": "stdout",
     "output_type": "stream",
     "text": [
      "Alice was beginning to get very tired of sitting by her sister on the bank, and of having nothing to do: once or twice she had peeped into the book her sister was reading, but it had no pictures or conversations in it, `and what is the use of a book,' thought Alice `without pictures or conversation?'\n"
     ]
    }
   ],
   "source": [
    "text = data[0][2][0]\n",
    "print(text)"
   ]
  },
  {
   "cell_type": "code",
   "execution_count": 92,
   "metadata": {},
   "outputs": [
    {
     "name": "stdout",
     "output_type": "stream",
     "text": [
      "Alice was beginning to get very tired of sitting by her sister on the bank, and of having nothing to do: once or twice she had peeped into the book her sister was reading, but it had no pictures or conversations in it, 'and what is the use of a book,' thought Alice 'without pictures or conversation?'\n"
     ]
    }
   ],
   "source": [
    "text = text.replace(\"`\", \"'\") # standardise the text\n",
    "print(text)"
   ]
  },
  {
   "cell_type": "markdown",
   "metadata": {},
   "source": [
    "### Extract all quotation marks"
   ]
  },
  {
   "cell_type": "code",
   "execution_count": 93,
   "metadata": {},
   "outputs": [
    {
     "name": "stdout",
     "output_type": "stream",
     "text": [
      "2\n",
      "(1846643219120237910, 47, 58) 'and what is the use of a book,'\n",
      "(1846643219120237910, 60, 67) 'without pictures or conversation?'\n"
     ]
    }
   ],
   "source": [
    "matcher = Matcher(nlp.vocab)\n",
    "pattern = [{\"ORTH\":\"'\"}, # starts with a '\n",
    "           {\"IS_ALPHA\": True, \"OP\": \"+\"}, # has many alphabets after that (that's why OP:+)\n",
    "           {\"IS_PUNCT\": True, \"OP\": \"*\"}, # may or may not have a ounctuation in between \n",
    "           {\"ORTH\":\"'\"} # end with a '\n",
    "          ]\n",
    "matcher.add(\"QUOTATIONS\", [pattern], greedy=\"LONGEST\")\n",
    "doc = nlp(text)\n",
    "matches = matcher(doc)\n",
    "matches.sort(key= lambda x: x[1]) # sorting by the start toiken in the tuples list\n",
    "print(len(matches))\n",
    "for match in matches[:20]:\n",
    "    print(match, doc[match[1]:match[2]])"
   ]
  },
  {
   "cell_type": "code",
   "execution_count": 94,
   "metadata": {},
   "outputs": [
    {
     "name": "stdout",
     "output_type": "stream",
     "text": [
      "1\n",
      "(1846643219120237910, 47, 59) 'and what is the use of a book,' thought\n"
     ]
    }
   ],
   "source": [
    "speak_lemmas = [\"think\", \"say\"]\n",
    "matcher = Matcher(nlp.vocab)\n",
    "pattern = [{\"ORTH\":\"'\"}, # starts with a '\n",
    "           {\"IS_ALPHA\": True, \"OP\": \"+\"}, # has many alphabets after that (that's why OP:+)\n",
    "           {\"IS_PUNCT\": True, \"OP\": \"*\"}, # may or may not have a ounctuation in between \n",
    "           {\"ORTH\":\"'\"}, # end with a '\n",
    "           {\"POS\": \"VERB\", \"LEMMA\":{\"IN\": speak_lemmas}} # now, the quotation mark is proceeded by a verb, which is either `think`, or `say` lemmatised form\n",
    "          ]\n",
    "matcher.add(\"QUOTATIONS\", [pattern], greedy=\"LONGEST\")\n",
    "doc = nlp(text)\n",
    "matches = matcher(doc)\n",
    "matches.sort(key= lambda x: x[1]) # sorting by the start toiken in the tuples list\n",
    "print(len(matches))\n",
    "for match in matches[:20]:\n",
    "    print(match, doc[match[1]:match[2]])"
   ]
  },
  {
   "cell_type": "code",
   "execution_count": 95,
   "metadata": {},
   "outputs": [
    {
     "name": "stdout",
     "output_type": "stream",
     "text": [
      "1\n",
      "(1846643219120237910, 47, 60) 'and what is the use of a book,' thought Alice\n"
     ]
    }
   ],
   "source": [
    "speak_lemmas = [\"think\", \"say\"]\n",
    "matcher = Matcher(nlp.vocab)\n",
    "pattern = [{\"ORTH\":\"'\"}, # starts with a '\n",
    "           {\"IS_ALPHA\": True, \"OP\": \"+\"}, # has many alphabets after that (that's why OP:+)\n",
    "           {\"IS_PUNCT\": True, \"OP\": \"*\"}, # may or may not have a ounctuation in between \n",
    "           {\"ORTH\":\"'\"}, # end with a '\n",
    "           {\"POS\": \"VERB\", \"LEMMA\":{\"IN\": speak_lemmas}}, # now, the quotation mark is proceeded by a verb, which is either `think`, or `say` lemmatised form\n",
    "           {\"POS\": \"PROPN\", \"OP\":\"+\"},\n",
    "          ]\n",
    "matcher.add(\"QUOTATIONS\", [pattern], greedy=\"LONGEST\")\n",
    "doc = nlp(text)\n",
    "matches = matcher(doc)\n",
    "matches.sort(key= lambda x: x[1]) # sorting by the start toiken in the tuples list\n",
    "print(len(matches))\n",
    "for match in matches[:20]:\n",
    "    print(match, doc[match[1]:match[2]])"
   ]
  },
  {
   "cell_type": "code",
   "execution_count": 96,
   "metadata": {},
   "outputs": [
    {
     "name": "stdout",
     "output_type": "stream",
     "text": [
      "1\n",
      "(1846643219120237910, 47, 67) 'and what is the use of a book,' thought Alice 'without pictures or conversation?'\n"
     ]
    }
   ],
   "source": [
    "speak_lemmas = [\"think\", \"say\"]\n",
    "matcher = Matcher(nlp.vocab)\n",
    "pattern = [{\"ORTH\":\"'\"}, # starts with a '\n",
    "           {\"IS_ALPHA\": True, \"OP\": \"+\"}, # has many alphabets after that (that's why OP:+)\n",
    "           {\"IS_PUNCT\": True, \"OP\": \"*\"}, # may or may not have a ounctuation in between \n",
    "           {\"ORTH\":\"'\"}, # end with a '\n",
    "           {\"POS\": \"VERB\", \"LEMMA\":{\"IN\": speak_lemmas}}, # now, the quotation mark is proceeded by a verb, which is either `think`, or `say` lemmatised form\n",
    "           {\"POS\": \"PROPN\", \"OP\":\"+\"},\n",
    "           {\"ORTH\":\"'\"}, # starts with a '\n",
    "           {\"IS_ALPHA\": True, \"OP\": \"+\"}, # has many alphabets after that (that's why OP:+)\n",
    "           {\"IS_PUNCT\": True, \"OP\": \"*\"}, # may or may not have a ounctuation in between \n",
    "           {\"ORTH\":\"'\"}, # end with a '\n",
    "          ]\n",
    "matcher.add(\"QUOTATIONS\", [pattern], greedy=\"LONGEST\")\n",
    "doc = nlp(text)\n",
    "matches = matcher(doc)\n",
    "matches.sort(key= lambda x: x[1]) # sorting by the start toiken in the tuples list\n",
    "print(len(matches))\n",
    "for match in matches[:20]:\n",
    "    print(match, doc[match[1]:match[2]])"
   ]
  }
 ],
 "metadata": {
  "kernelspec": {
   "display_name": "Python 3.9.12 ('NLP_env')",
   "language": "python",
   "name": "python3"
  },
  "language_info": {
   "codemirror_mode": {
    "name": "ipython",
    "version": 3
   },
   "file_extension": ".py",
   "mimetype": "text/x-python",
   "name": "python",
   "nbconvert_exporter": "python",
   "pygments_lexer": "ipython3",
   "version": "3.9.12"
  },
  "orig_nbformat": 4,
  "vscode": {
   "interpreter": {
    "hash": "aeac2e3bda9c9b9f52dc0feb8ae0ec0004b64d023d9de9151496b374116c77d1"
   }
  }
 },
 "nbformat": 4,
 "nbformat_minor": 2
}
