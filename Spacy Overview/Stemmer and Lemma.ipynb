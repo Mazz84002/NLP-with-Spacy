{
 "cells": [
  {
   "cell_type": "markdown",
   "metadata": {},
   "source": [
    "# Stemming vs Lemmatization"
   ]
  },
  {
   "cell_type": "markdown",
   "metadata": {},
   "source": [
    "|Stemming\t                                           |                    Lemmatization                                   |\n",
    "|------------------------------------------------------|-----------------------------------------------------------------   |                  \n",
    "|Finding base word\t                                   |                    Finding different representations of a word     |\n",
    "|Faster\t                                               |                     Slower                                         |\n",
    "|Used in sentiment analysis\t                           |                     Answering to human queries                     |\n",
    "\n",
    "\n",
    "Sentiment analysis (or opinion mining) is a natural language processing (NLP) technique used to determine whether data is positive, negative or neutral"
   ]
  },
  {
   "cell_type": "markdown",
   "metadata": {},
   "source": [
    "# Stemming\n",
    "\n",
    "- Reducing word to it’s root form\n",
    "\tEg: computer, computing have same root form\n",
    "- Not supported in Spacy\n",
    "- Can be done using `nltk` library\n",
    "- Types of stemmers in `nltk` - Porter and Snowball\n",
    "- Porter vs Snowball stemmer\n",
    "Snowball is an improved version of Porter and is preferred over porter"
   ]
  },
  {
   "cell_type": "code",
   "execution_count": 18,
   "metadata": {},
   "outputs": [],
   "source": [
    "import nltk"
   ]
  },
  {
   "cell_type": "code",
   "execution_count": 2,
   "metadata": {},
   "outputs": [],
   "source": [
    "# Porter Stemmer\n",
    "from nltk.stem.porter import *"
   ]
  },
  {
   "cell_type": "code",
   "execution_count": 3,
   "metadata": {},
   "outputs": [],
   "source": [
    "stemmer = PorterStemmer()"
   ]
  },
  {
   "cell_type": "code",
   "execution_count": 6,
   "metadata": {},
   "outputs": [],
   "source": [
    "tokens = [\"Computer\", \"computing\"]"
   ]
  },
  {
   "cell_type": "code",
   "execution_count": 7,
   "metadata": {},
   "outputs": [
    {
     "name": "stdout",
     "output_type": "stream",
     "text": [
      "Computer == comput\n",
      "computing == comput\n"
     ]
    }
   ],
   "source": [
    "for token in tokens:\n",
    "    print(token, \"==\", stemmer.stem(token))"
   ]
  },
  {
   "cell_type": "code",
   "execution_count": 19,
   "metadata": {},
   "outputs": [],
   "source": [
    "tokens = [\"thought\", \"thinking\", \"think\"]"
   ]
  },
  {
   "cell_type": "code",
   "execution_count": 20,
   "metadata": {},
   "outputs": [
    {
     "name": "stdout",
     "output_type": "stream",
     "text": [
      "thought == thought\n",
      "thinking == think\n",
      "think == think\n"
     ]
    }
   ],
   "source": [
    "for token in tokens:\n",
    "    print(token, \"==\", stemmer.stem(token))"
   ]
  },
  {
   "cell_type": "markdown",
   "metadata": {},
   "source": [
    "Problematic case with root analysis. But thus will work in lammentization."
   ]
  },
  {
   "cell_type": "code",
   "execution_count": 21,
   "metadata": {},
   "outputs": [],
   "source": [
    "tokens = [\"house\", \"tree\", \"treehouse\"]"
   ]
  },
  {
   "cell_type": "code",
   "execution_count": 22,
   "metadata": {},
   "outputs": [
    {
     "name": "stdout",
     "output_type": "stream",
     "text": [
      "house == hous\n",
      "tree == tree\n",
      "treehouse == treehous\n"
     ]
    }
   ],
   "source": [
    "for token in tokens:\n",
    "    print(token, \"==\", stemmer.stem(token))"
   ]
  },
  {
   "cell_type": "markdown",
   "metadata": {},
   "source": [
    "### Result\n",
    "\n",
    "Here, we extracted the root word from both Computer and Computing.\\\n",
    "Same output from #Snowball in this case\n"
   ]
  },
  {
   "cell_type": "markdown",
   "metadata": {},
   "source": [
    "# Lammentization\n",
    "\n",
    "- Matching similar meaning words\n",
    "- We use the `lemma_` attribute"
   ]
  },
  {
   "cell_type": "code",
   "execution_count": 11,
   "metadata": {},
   "outputs": [],
   "source": [
    "import spacy\n",
    "nlp = spacy.load(\"en_core_web_sm\")"
   ]
  },
  {
   "cell_type": "code",
   "execution_count": 12,
   "metadata": {},
   "outputs": [],
   "source": [
    "text = \"Computer computing\"\n",
    "doc = nlp(text)"
   ]
  },
  {
   "cell_type": "code",
   "execution_count": 13,
   "metadata": {},
   "outputs": [
    {
     "name": "stdout",
     "output_type": "stream",
     "text": [
      "Computer computer\n",
      "computing computing\n"
     ]
    }
   ],
   "source": [
    "for token in doc:\n",
    "    print(token.text, token.lemma_)"
   ]
  },
  {
   "cell_type": "code",
   "execution_count": 14,
   "metadata": {},
   "outputs": [],
   "source": [
    "text = \"Computer computing computed\"\n",
    "doc = nlp(text)"
   ]
  },
  {
   "cell_type": "code",
   "execution_count": 15,
   "metadata": {},
   "outputs": [
    {
     "name": "stdout",
     "output_type": "stream",
     "text": [
      "Computer computer\n",
      "computing computing\n",
      "computed compute\n"
     ]
    }
   ],
   "source": [
    "for token in doc:\n",
    "    print(token.text, token.lemma_)"
   ]
  },
  {
   "cell_type": "code",
   "execution_count": 16,
   "metadata": {},
   "outputs": [],
   "source": [
    "text = \"He was having a stroke\"\n",
    "doc = nlp(text)"
   ]
  },
  {
   "cell_type": "code",
   "execution_count": 17,
   "metadata": {},
   "outputs": [
    {
     "name": "stdout",
     "output_type": "stream",
     "text": [
      "He he\n",
      "was be\n",
      "having have\n",
      "a a\n",
      "stroke stroke\n"
     ]
    }
   ],
   "source": [
    "for token in doc:\n",
    "    print(token.text, token.lemma_)"
   ]
  },
  {
   "cell_type": "code",
   "execution_count": 25,
   "metadata": {},
   "outputs": [],
   "source": [
    "text = \"thought thinking think\"\n",
    "doc = nlp(text)"
   ]
  },
  {
   "cell_type": "markdown",
   "metadata": {},
   "source": [
    "Here, it did game different output from thinking and think :("
   ]
  },
  {
   "cell_type": "code",
   "execution_count": 26,
   "metadata": {},
   "outputs": [
    {
     "name": "stdout",
     "output_type": "stream",
     "text": [
      "thought think\n",
      "thinking thinking\n",
      "think think\n"
     ]
    }
   ],
   "source": [
    "for token in doc:\n",
    "    print(token.text, token.lemma_)"
   ]
  },
  {
   "cell_type": "code",
   "execution_count": 27,
   "metadata": {},
   "outputs": [],
   "source": [
    "text = \"house tree treehouse\"\n",
    "doc = nlp(text)"
   ]
  },
  {
   "cell_type": "code",
   "execution_count": 28,
   "metadata": {},
   "outputs": [
    {
     "name": "stdout",
     "output_type": "stream",
     "text": [
      "house house\n",
      "tree tree\n",
      "treehouse treehouse\n"
     ]
    }
   ],
   "source": [
    "for token in doc:\n",
    "    print(token.text, token.lemma_)"
   ]
  },
  {
   "cell_type": "markdown",
   "metadata": {},
   "source": [
    "### Result \n",
    "\n",
    "- converted all tenses into first form\n",
    "- Simalary `has` becomes `have` and so on"
   ]
  },
  {
   "cell_type": "markdown",
   "metadata": {},
   "source": [
    "# Some More Examples on Stemming vs Lemmentization I found online\n",
    "\n",
    "Stemming:  \n",
    "Walking  :  walk  \n",
    "is  :  is  \n",
    "one  :  one  \n",
    "of  :  of  \n",
    "the  :  the  \n",
    "main  :  main  \n",
    "gaits  :  gait  \n",
    "of  :  of  \n",
    "terrestrial  :  terrestri  \n",
    "locomotion  :  locomot  \n",
    "among  :  among  \n",
    "legged  :  leg  \n",
    "animals  :  anim  \n",
    "\n",
    "Lemmatization:  \n",
    "Walking  :  Walking  \n",
    "is  :  is  \n",
    "one  :  one  \n",
    "of  :  of  \n",
    "the  :  the  \n",
    "main  :  main  \n",
    "gaits  :  gait  \n",
    "of  :  of  \n",
    "terrestrial  :  terrestrial  \n",
    "locomotion  :  locomotion  \n",
    "among  :  among  \n",
    "legged  :  legged  \n",
    "animals  :  animal\n"
   ]
  }
 ],
 "metadata": {
  "kernelspec": {
   "display_name": "Python 3.9.12 ('base')",
   "language": "python",
   "name": "python3"
  },
  "language_info": {
   "codemirror_mode": {
    "name": "ipython",
    "version": 3
   },
   "file_extension": ".py",
   "mimetype": "text/x-python",
   "name": "python",
   "nbconvert_exporter": "python",
   "pygments_lexer": "ipython3",
   "version": "3.9.12"
  },
  "orig_nbformat": 4,
  "vscode": {
   "interpreter": {
    "hash": "2f84d78153df3a5c132a49883a3de9873e1e441aa4761e54e208769f56cb04bd"
   }
  }
 },
 "nbformat": 4,
 "nbformat_minor": 2
}
