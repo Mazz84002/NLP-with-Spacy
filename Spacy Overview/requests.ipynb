{
 "cells": [
  {
   "cell_type": "markdown",
   "metadata": {},
   "source": [
    "## GET"
   ]
  },
  {
   "cell_type": "code",
   "execution_count": 1,
   "metadata": {},
   "outputs": [],
   "source": [
    "import requests"
   ]
  },
  {
   "cell_type": "code",
   "execution_count": 2,
   "metadata": {},
   "outputs": [],
   "source": [
    "x = requests.get('http://127.0.0.1:5000')"
   ]
  },
  {
   "cell_type": "code",
   "execution_count": 3,
   "metadata": {},
   "outputs": [
    {
     "data": {
      "text/plain": [
       "200"
      ]
     },
     "execution_count": 3,
     "metadata": {},
     "output_type": "execute_result"
    }
   ],
   "source": [
    "x.status_code"
   ]
  },
  {
   "cell_type": "code",
   "execution_count": 4,
   "metadata": {},
   "outputs": [
    {
     "data": {
      "text/plain": [
       "'utf-8'"
      ]
     },
     "execution_count": 4,
     "metadata": {},
     "output_type": "execute_result"
    }
   ],
   "source": [
    "x.encoding"
   ]
  },
  {
   "cell_type": "code",
   "execution_count": 5,
   "metadata": {},
   "outputs": [
    {
     "data": {
      "text/plain": [
       "'<DOCTYPE html>\\n<html lang=\"en\">\\n    <head>\\n\\n    </head>\\n    <body>\\n        <h1> Add text you want to be extracted </h1>\\n        <form action=\"#\" method=\"post\">\\n            <p> Text:</p>\\n            <p><input type=\"text\" name=\"text\" id=\"text\" class=\"from_input\"  size=\"180\"/></p>\\n            <p><input type=\"submit\" name=\"submit_button\" value=\"Extract Entities\"/></p>\\n        </form>\\n    </body>\\n</html>'"
      ]
     },
     "execution_count": 5,
     "metadata": {},
     "output_type": "execute_result"
    }
   ],
   "source": [
    "x.text"
   ]
  },
  {
   "cell_type": "code",
   "execution_count": 6,
   "metadata": {},
   "outputs": [
    {
     "data": {
      "text/plain": [
       "b'<DOCTYPE html>\\n<html lang=\"en\">\\n    <head>\\n\\n    </head>\\n    <body>\\n        <h1> Add text you want to be extracted </h1>\\n        <form action=\"#\" method=\"post\">\\n            <p> Text:</p>\\n            <p><input type=\"text\" name=\"text\" id=\"text\" class=\"from_input\"  size=\"180\"/></p>\\n            <p><input type=\"submit\" name=\"submit_button\" value=\"Extract Entities\"/></p>\\n        </form>\\n    </body>\\n</html>'"
      ]
     },
     "execution_count": 6,
     "metadata": {},
     "output_type": "execute_result"
    }
   ],
   "source": [
    "x.content"
   ]
  },
  {
   "cell_type": "markdown",
   "metadata": {},
   "source": [
    "## POST"
   ]
  },
  {
   "cell_type": "code",
   "execution_count": 17,
   "metadata": {},
   "outputs": [],
   "source": [
    "info = {'text': 'Russia is in Northern Asia'}\n",
    "r = requests.post('http://127.0.0.1:5000', data=info)"
   ]
  },
  {
   "cell_type": "code",
   "execution_count": 10,
   "metadata": {},
   "outputs": [
    {
     "name": "stdout",
     "output_type": "stream",
     "text": [
      "http://127.0.0.1:5000/\n"
     ]
    }
   ],
   "source": [
    "print(r.url)"
   ]
  },
  {
   "cell_type": "code",
   "execution_count": 18,
   "metadata": {},
   "outputs": [
    {
     "name": "stdout",
     "output_type": "stream",
     "text": [
      "<!DOCTYPE html>\n",
      "<html lang=\"en\">\n",
      "<head>\n",
      "    <meta charset=\"UTF-8\">\n",
      "    <title>List of Entities</title>\n",
      "</head>\n",
      "<body>\n",
      "    <h1>NER</h1>\n",
      "    <div class=\"entities\" style=\"line-height: 2.5; direction: ltr\">\n",
      "<mark class=\"entity\" style=\"background: #feca74; padding: 0.45em 0.6em; margin: 0 0.25em; line-height: 1; border-radius: 0.35em;\">\n",
      "    Russia\n",
      "    <span style=\"font-size: 0.8em; font-weight: bold; line-height: 1; border-radius: 0.35em; vertical-align: middle; margin-left: 0.5rem\">GPE</span>\n",
      "</mark>\n",
      " is in \n",
      "<mark class=\"entity\" style=\"background: #ff9561; padding: 0.45em 0.6em; margin: 0 0.25em; line-height: 1; border-radius: 0.35em;\">\n",
      "    Northern Asia\n",
      "    <span style=\"font-size: 0.8em; font-weight: bold; line-height: 1; border-radius: 0.35em; vertical-align: middle; margin-left: 0.5rem\">LOC</span>\n",
      "</mark>\n",
      "</div>\n",
      "    <h1>SPANCAT</h1>\n",
      "    <div class=\"spans\" style=\"line-height: 2.5; direction: ltr\">\n",
      "<span style=\"font-weight: bold; display: inline-block; position: relative; height: 60px;\">\n",
      "    Russia\n",
      "\n",
      "<span style=\"background: #feca74; top: 40px; height: 4px; left: -1px; width: calc(100% + 2px); position: absolute;\">\n",
      "</span>\n",
      "\n",
      "\n",
      "<span style=\"background: #feca74; top: 40px; height: 4px; border-top-left-radius: 3px; border-bottom-left-radius: 3px; left: -1px; width: calc(100% + 2px); position: absolute;\">\n",
      "    <span style=\"background: #feca74; z-index: 10; color: #000; top: -0.5em; padding: 2px 3px; position: absolute; font-size: 0.6em; font-weight: bold; line-height: 1; border-radius: 3px\">\n",
      "        GPE\n",
      "    </span>\n",
      "</span>\n",
      "\n",
      "\n",
      "</span>\n",
      "is in \n",
      "<span style=\"font-weight: bold; display: inline-block; position: relative; height: 77px;\">\n",
      "    Northern\n",
      "\n",
      "<span style=\"background: #ff9561; top: 40px; height: 4px; left: -1px; width: calc(100% + 2px); position: absolute;\">\n",
      "</span>\n",
      "\n",
      "<span style=\"background: #ff9561; top: 57px; height: 4px; left: -1px; width: calc(100% + 2px); position: absolute;\">\n",
      "</span>\n",
      "\n",
      "\n",
      "<span style=\"background: #ff9561; top: 40px; height: 4px; border-top-left-radius: 3px; border-bottom-left-radius: 3px; left: -1px; width: calc(100% + 2px); position: absolute;\">\n",
      "    <span style=\"background: #ff9561; z-index: 10; color: #000; top: -0.5em; padding: 2px 3px; position: absolute; font-size: 0.6em; font-weight: bold; line-height: 1; border-radius: 3px\">\n",
      "        LOC\n",
      "    </span>\n",
      "</span>\n",
      "\n",
      "\n",
      "<span style=\"background: #ff9561; top: 57px; height: 4px; border-top-left-radius: 3px; border-bottom-left-radius: 3px; left: -1px; width: calc(100% + 2px); position: absolute;\">\n",
      "    <span style=\"background: #ff9561; z-index: 10; color: #000; top: -0.5em; padding: 2px 3px; position: absolute; font-size: 0.6em; font-weight: bold; line-height: 1; border-radius: 3px\">\n",
      "        LOC\n",
      "    </span>\n",
      "</span>\n",
      "\n",
      "\n",
      "</span>\n",
      "\n",
      "<span style=\"font-weight: bold; display: inline-block; position: relative; height: 77px;\">\n",
      "    Asia\n",
      "\n",
      "<span style=\"background: #ff9561; top: 40px; height: 4px; left: -1px; width: calc(100% + 2px); position: absolute;\">\n",
      "</span>\n",
      "\n",
      "<span style=\"background: #ff9561; top: 57px; height: 4px; left: -1px; width: calc(100% + 2px); position: absolute;\">\n",
      "</span>\n",
      "\n",
      "\n",
      "<span style=\"background: #ff9561; top: 57px; height: 4px; border-top-left-radius: 3px; border-bottom-left-radius: 3px; left: -1px; width: calc(100% + 2px); position: absolute;\">\n",
      "    <span style=\"background: #ff9561; z-index: 10; color: #000; top: -0.5em; padding: 2px 3px; position: absolute; font-size: 0.6em; font-weight: bold; line-height: 1; border-radius: 3px\">\n",
      "        LOC\n",
      "    </span>\n",
      "</span>\n",
      "\n",
      "\n",
      "</span>\n",
      "</div>\n",
      "</body>\n",
      "</html>\n"
     ]
    }
   ],
   "source": [
    "print(r.text)"
   ]
  },
  {
   "cell_type": "code",
   "execution_count": 15,
   "metadata": {},
   "outputs": [
    {
     "name": "stdout",
     "output_type": "stream",
     "text": [
      "0\n"
     ]
    }
   ],
   "source": [
    "print(len(r.cookies))"
   ]
  },
  {
   "cell_type": "code",
   "execution_count": null,
   "metadata": {},
   "outputs": [],
   "source": []
  }
 ],
 "metadata": {
  "kernelspec": {
   "display_name": "Python 3.9.12 ('base')",
   "language": "python",
   "name": "python3"
  },
  "language_info": {
   "codemirror_mode": {
    "name": "ipython",
    "version": 3
   },
   "file_extension": ".py",
   "mimetype": "text/x-python",
   "name": "python",
   "nbconvert_exporter": "python",
   "pygments_lexer": "ipython3",
   "version": "3.9.12"
  },
  "orig_nbformat": 4,
  "vscode": {
   "interpreter": {
    "hash": "2f84d78153df3a5c132a49883a3de9873e1e441aa4761e54e208769f56cb04bd"
   }
  }
 },
 "nbformat": 4,
 "nbformat_minor": 2
}
